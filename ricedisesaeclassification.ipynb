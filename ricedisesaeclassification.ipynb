{
  "nbformat": 4,
  "nbformat_minor": 0,
  "metadata": {
    "colab": {
      "name": "ricedisesaeclassification.ipynb",
      "provenance": [],
      "collapsed_sections": []
    },
    "kernelspec": {
      "name": "python3",
      "display_name": "Python 3"
    },
    "accelerator": "GPU"
  },
  "cells": [
    {
      "cell_type": "code",
      "metadata": {
        "id": "oPCnTvV0hc-f",
        "colab_type": "code",
        "colab": {
          "base_uri": "https://localhost:8080/",
          "height": 122
        },
        "outputId": "19f8166e-3eda-4c86-f23f-5cba7f9069aa"
      },
      "source": [
        "# mounting the dataset for google collab\n",
        "from google.colab import drive\n",
        "drive.mount('/content/drive')"
      ],
      "execution_count": 1,
      "outputs": [
        {
          "output_type": "stream",
          "text": [
            "Go to this URL in a browser: https://accounts.google.com/o/oauth2/auth?client_id=947318989803-6bn6qk8qdgf4n4g3pfee6491hc0brc4i.apps.googleusercontent.com&redirect_uri=urn%3aietf%3awg%3aoauth%3a2.0%3aoob&response_type=code&scope=email%20https%3a%2f%2fwww.googleapis.com%2fauth%2fdocs.test%20https%3a%2f%2fwww.googleapis.com%2fauth%2fdrive%20https%3a%2f%2fwww.googleapis.com%2fauth%2fdrive.photos.readonly%20https%3a%2f%2fwww.googleapis.com%2fauth%2fpeopleapi.readonly\n",
            "\n",
            "Enter your authorization code:\n",
            "··········\n",
            "Mounted at /content/drive\n"
          ],
          "name": "stdout"
        }
      ]
    },
    {
      "cell_type": "code",
      "metadata": {
        "id": "TPx9_nqLhyTJ",
        "colab_type": "code",
        "colab": {}
      },
      "source": [
        "# Importing the library\n",
        "%matplotlib inline\n",
        "import matplotlib.pyplot as plt\n",
        "import numpy as np\n",
        "import os\n",
        "import pandas as pd\n",
        "import torch\n",
        "from torch import nn, optim\n",
        "import torch.nn.functional as F\n",
        "import torchvision\n",
        "from torchvision import datasets, transforms, models\n",
        "from torch.autograd import Variable\n",
        "from torch.utils.data.sampler import SubsetRandomSampler"
      ],
      "execution_count": 2,
      "outputs": []
    },
    {
      "cell_type": "code",
      "metadata": {
        "id": "jUM0bZZUiBEp",
        "colab_type": "code",
        "colab": {
          "base_uri": "https://localhost:8080/",
          "height": 34
        },
        "outputId": "50e35eae-7a25-4b8b-91e8-b6e2d6d218b8"
      },
      "source": [
        "#importing the dataset \n",
        "data_dir = '/content/drive/My Drive/Labelled'\n",
        "#printing total number of images\n",
        "from glob import glob\n",
        "images = glob(os.path.join(data_dir, '*/*.jpg'))\n",
        "tot_images = len(images)\n",
        "print('Total images:', tot_images)\n",
        "\n",
        "# Define transforms for the training and validation sets\n",
        "data_transforms ={\n",
        "    \"train_transforms\": transforms.Compose([transforms.RandomRotation(30),\n",
        "                                           transforms.RandomResizedCrop(224), \n",
        "                                           transforms.RandomHorizontalFlip(), \n",
        "                                           transforms.ToTensor(),\n",
        "                                           transforms.Normalize([0.485, 0.456, 0.406], \n",
        "                                                                [0.229, 0.224, 0.225])]),\n",
        "   \"valid_transforms\": transforms.Compose([transforms.Resize(225),\n",
        "                                           transforms.CenterCrop(224),\n",
        "                                           transforms.ToTensor(),\n",
        "                                           transforms.Normalize([0.485, 0.456, 0.406],\n",
        "                                                                [0.229, 0.224, 0.225])]), \n",
        "    \"test_transforms\": transforms.Compose([transforms.Resize(225),\n",
        "                                           transforms.CenterCrop(224),\n",
        "                                           transforms.ToTensor(),\n",
        "                                           transforms.Normalize([0.485, 0.456, 0.406],\n",
        "                                                                [0.229, 0.224, 0.225])])\n",
        "}"
      ],
      "execution_count": 3,
      "outputs": [
        {
          "output_type": "stream",
          "text": [
            "Total images: 3365\n"
          ],
          "name": "stdout"
        }
      ]
    },
    {
      "cell_type": "code",
      "metadata": {
        "id": "Y3r7IFisiTCP",
        "colab_type": "code",
        "colab": {
          "base_uri": "https://localhost:8080/",
          "height": 85
        },
        "outputId": "7bffa0c6-139d-45de-c92a-48ae33d6631e"
      },
      "source": [
        "# Split the dataset into train, validation and test\n",
        "train_data = 0.8\n",
        "valid_data = 0.1\n",
        "test_data = 0.1\n",
        "\n",
        "# Load the datasets with ImageFolder\n",
        "train_data = datasets.ImageFolder(data_dir, transform=data_transforms[\"train_transforms\"])\n",
        "valid_data = datasets.ImageFolder(data_dir, transform=data_transforms[\"valid_transforms\"])\n",
        "test_data = datasets.ImageFolder(data_dir, transform=data_transforms[\"test_transforms\"])\n",
        "\n",
        "# Obtain training indices that will be used for validation and test\n",
        "num_train = len(train_data)\n",
        "indices = list(range(num_train))\n",
        "# np.random.shuffle(indices)\n",
        "train_count = int(0.8*num_train)\n",
        "valid_count = int(0.1*num_train)\n",
        "test_count = num_train - train_count - valid_count\n",
        "train_idx = indices[:train_count]\n",
        "valid_idx = indices[train_count:train_count+valid_count]\n",
        "test_idx = indices[train_count+valid_count:]\n",
        "\n",
        "print(len(train_idx), len(valid_idx), len(test_idx))\n",
        "print(\"Training\", train_count, np.sum(len(train_idx)/num_train))\n",
        "print(\"Validation\", valid_count, np.sum(len(valid_idx)/num_train))\n",
        "print(\"Test\", test_count, np.sum(len(test_idx)/num_train))\n",
        "\n",
        "# Define a custom sampler for the dataset loader avoiding recreating the dataset (just creating a new loader for each different sampling)\n",
        "train_sampler = SubsetRandomSampler(train_idx)\n",
        "valid_sampler = SubsetRandomSampler(valid_idx)\n",
        "test_sampler = SubsetRandomSampler(test_idx)\n",
        "\n",
        "# Define the dataloaders using the image datasets. Dataloader is used to load our data in batches\n",
        "trainloader = torch.utils.data.DataLoader(train_data, batch_size = 64, shuffle = True)\n",
        "validloader = torch.utils.data.DataLoader(valid_data, batch_size = 32, sampler = valid_sampler)\n",
        "testloader = torch.utils.data.DataLoader(test_data, batch_size = 32, sampler = test_sampler)\n",
        "\n"
      ],
      "execution_count": 4,
      "outputs": [
        {
          "output_type": "stream",
          "text": [
            "2692 336 337\n",
            "Training 2692 0.8\n",
            "Validation 336 0.099851411589896\n",
            "Test 337 0.10014858841010402\n"
          ],
          "name": "stdout"
        }
      ]
    },
    {
      "cell_type": "code",
      "metadata": {
        "id": "lmcmrsnkikkX",
        "colab_type": "code",
        "colab": {}
      },
      "source": [
        "classes=['LeafBlast', 'BrownSpot', 'Healthy', 'Hispa']"
      ],
      "execution_count": 5,
      "outputs": []
    },
    {
      "cell_type": "code",
      "metadata": {
        "id": "O4FaglG7iwvy",
        "colab_type": "code",
        "colab": {
          "base_uri": "https://localhost:8080/",
          "height": 34
        },
        "outputId": "a9e5422e-ce31-4825-e99d-2cc978080206"
      },
      "source": [
        "\n",
        "# Loading the pretrained model from pytorch's library and storing it\n",
        "model_transfer = models.googlenet(pretrained=True)\n",
        "\n",
        "use_cuda = torch.cuda.is_available()\n",
        "if use_cuda:\n",
        "    model_transfer = model_transfer.cuda()\n",
        "for param in model_transfer.parameters():\n",
        "    param.requires_grad=True    \n",
        "# Define n_inputs takes the same number of inputs from pre-trained model\n",
        "n_inputs = model_transfer.fc.in_features \n",
        "\n",
        "# Add last linear layer as we have 4 classes\n",
        "last_layer = nn.Linear(n_inputs, len(classes))\n",
        "\n",
        "model_transfer.fc = last_layer\n",
        "\n",
        "if use_cuda:\n",
        "    model_transfer = model_transfer.cuda()\n",
        "  \n",
        "# Check to see the last layer produces the expected number of outputs\n",
        "print(model_transfer.fc.out_features)\n",
        "\n",
        "# Specify loss function and optimizer and number of epoch\n",
        "criterion_transfer = nn.CrossEntropyLoss()\n",
        "optimizer_transfer = optim.SGD(model_transfer.parameters(), lr=0.001, momentum=0.9)\n",
        "epoch_num=40\n"
      ],
      "execution_count": 7,
      "outputs": [
        {
          "output_type": "stream",
          "text": [
            "4\n"
          ],
          "name": "stdout"
        }
      ]
    },
    {
      "cell_type": "code",
      "metadata": {
        "id": "O8EW5lkRjXcW",
        "colab_type": "code",
        "colab": {
          "base_uri": "https://localhost:8080/",
          "height": 850
        },
        "outputId": "04b20177-78c8-40cb-8d7d-f11f814612a5"
      },
      "source": [
        "train_loss_list=[]\n",
        "valid_loss_list=[]\n",
        "def train(n_epochs, loaders, model, optimizer, criterion, use_cuda, save_path):\n",
        "    '''returns trained model'''\n",
        "    # Initialize tracker for minimum validation loss\n",
        "    valid_loss_min = np.inf\n",
        "  \n",
        "    for epoch in range(1, n_epochs+1):\n",
        "        \n",
        "        # Initialize variables to monitor training and validation loss\n",
        "        train_loss = 0.0\n",
        "        valid_loss = 0.0\n",
        "        \n",
        "    \n",
        "        # Model training\n",
        "        model.train()\n",
        "        for batch_idx, (data,target) in enumerate(trainloader):\n",
        "            # 1st step: Move to GPU\n",
        "            if use_cuda:\n",
        "                data,target = data.cuda(), target.cuda()\n",
        "      \n",
        "            \n",
        "            optimizer.zero_grad()\n",
        "            # Forward pass: compute predicted outputs by passing inputs to the model\n",
        "            output = model(data)\n",
        "            # Perform the Cross Entropy Loss. Calculate the batch loss.\n",
        "            loss = criterion(output, target)\n",
        "            # Backward pass: compute gradient of the loss with respect to model parameters\n",
        "            loss.backward()\n",
        "            # Perform optimization step (parameter update)\n",
        "            optimizer.step()\n",
        "            # Record the average training loss\n",
        "            train_loss = train_loss + ((1/ (batch_idx + 1 ))*(loss.data-train_loss))\n",
        "      \n",
        "        # Model validation\n",
        "        model.eval()\n",
        "        for batch_idx, (data,target) in enumerate(validloader):\n",
        "            # Move to GPU\n",
        "            if use_cuda:\n",
        "                data, target = data.cuda(), target.cuda()\n",
        "            # Update the average validation loss\n",
        "            # Forward pass: compute predicted outputs by passing inputs to the model\n",
        "            output = model(data)\n",
        "            # Calculate the batch loss\n",
        "            loss = criterion(output, target)\n",
        "            # Update the average validation loss\n",
        "            valid_loss = valid_loss + ((1/ (batch_idx +1)) * (loss.data - valid_loss))\n",
        "        print('Epoch: {} \\tTraining Loss: {:.5f} \\tValidation Loss: {:.5f}'.format(\n",
        "            epoch,\n",
        "            train_loss,\n",
        "            valid_loss))\n",
        "        train_loss_list.append(train_loss)\n",
        "        valid_loss_list.append(valid_loss)\n",
        "        \n",
        "    \n",
        "        # Save the model if the validation loss has decreased\n",
        "        if valid_loss <= valid_loss_min:\n",
        "            #print('Validation loss decreased ({:.5f} --> {:.5f}). Saving model ...'.format(\n",
        "                  #valid_loss_min,\n",
        "                  #valid_loss))\n",
        "            print(\"Saving the model as validation loss is decreased\")      \n",
        "            torch.save(model.state_dict(), 'model_transfer.pt')\n",
        "            valid_loss_min = valid_loss\n",
        "  \n",
        "    # Return trained model\n",
        "    return model\n",
        "\n",
        "# Define loaders transfer\n",
        "loaders_transfer = {'train': trainloader,\n",
        "                    'valid': validloader,\n",
        "                    'test': testloader}\n",
        "\n",
        "# Train the model\n",
        "model_transfer = train(epoch_num, loaders_transfer, model_transfer, optimizer_transfer, criterion_transfer, use_cuda, 'model_transfer.pt')     "
      ],
      "execution_count": 8,
      "outputs": [
        {
          "output_type": "stream",
          "text": [
            "Epoch: 1 \tTraining Loss: 1.26762 \tValidation Loss: 1.39176\n",
            "Saving the model as validation loss is decreased\n",
            "Epoch: 2 \tTraining Loss: 1.10001 \tValidation Loss: 1.16452\n",
            "Saving the model as validation loss is decreased\n",
            "Epoch: 3 \tTraining Loss: 0.98740 \tValidation Loss: 1.19394\n",
            "Epoch: 4 \tTraining Loss: 0.90804 \tValidation Loss: 1.06550\n",
            "Saving the model as validation loss is decreased\n",
            "Epoch: 5 \tTraining Loss: 0.82333 \tValidation Loss: 0.91896\n",
            "Saving the model as validation loss is decreased\n",
            "Epoch: 6 \tTraining Loss: 0.78421 \tValidation Loss: 0.86594\n",
            "Saving the model as validation loss is decreased\n",
            "Epoch: 7 \tTraining Loss: 0.75031 \tValidation Loss: 1.09209\n",
            "Epoch: 8 \tTraining Loss: 0.72938 \tValidation Loss: 0.88551\n",
            "Epoch: 9 \tTraining Loss: 0.70671 \tValidation Loss: 0.94713\n",
            "Epoch: 10 \tTraining Loss: 0.70097 \tValidation Loss: 0.80471\n",
            "Saving the model as validation loss is decreased\n",
            "Epoch: 11 \tTraining Loss: 0.67816 \tValidation Loss: 0.81665\n",
            "Epoch: 12 \tTraining Loss: 0.65764 \tValidation Loss: 0.70782\n",
            "Saving the model as validation loss is decreased\n",
            "Epoch: 13 \tTraining Loss: 0.65157 \tValidation Loss: 0.90628\n",
            "Epoch: 14 \tTraining Loss: 0.65404 \tValidation Loss: 0.92772\n",
            "Epoch: 15 \tTraining Loss: 0.63214 \tValidation Loss: 0.85362\n",
            "Epoch: 16 \tTraining Loss: 0.60817 \tValidation Loss: 0.84426\n",
            "Epoch: 17 \tTraining Loss: 0.59751 \tValidation Loss: 0.66094\n",
            "Saving the model as validation loss is decreased\n",
            "Epoch: 18 \tTraining Loss: 0.61201 \tValidation Loss: 0.73666\n",
            "Epoch: 19 \tTraining Loss: 0.58902 \tValidation Loss: 0.68577\n",
            "Epoch: 20 \tTraining Loss: 0.59557 \tValidation Loss: 0.51465\n",
            "Saving the model as validation loss is decreased\n",
            "Epoch: 21 \tTraining Loss: 0.56786 \tValidation Loss: 0.59929\n",
            "Epoch: 22 \tTraining Loss: 0.58901 \tValidation Loss: 0.82296\n",
            "Epoch: 23 \tTraining Loss: 0.56575 \tValidation Loss: 0.78746\n",
            "Epoch: 24 \tTraining Loss: 0.55053 \tValidation Loss: 0.92365\n",
            "Epoch: 25 \tTraining Loss: 0.57233 \tValidation Loss: 0.68767\n",
            "Epoch: 26 \tTraining Loss: 0.56043 \tValidation Loss: 0.80136\n",
            "Epoch: 27 \tTraining Loss: 0.53194 \tValidation Loss: 0.78265\n",
            "Epoch: 28 \tTraining Loss: 0.55619 \tValidation Loss: 0.62299\n",
            "Epoch: 29 \tTraining Loss: 0.54230 \tValidation Loss: 0.68138\n",
            "Epoch: 30 \tTraining Loss: 0.54107 \tValidation Loss: 0.57037\n",
            "Epoch: 31 \tTraining Loss: 0.51252 \tValidation Loss: 0.63669\n",
            "Epoch: 32 \tTraining Loss: 0.50414 \tValidation Loss: 0.70790\n",
            "Epoch: 33 \tTraining Loss: 0.51356 \tValidation Loss: 0.77501\n",
            "Epoch: 34 \tTraining Loss: 0.53238 \tValidation Loss: 0.57180\n",
            "Epoch: 35 \tTraining Loss: 0.49945 \tValidation Loss: 0.64800\n",
            "Epoch: 36 \tTraining Loss: 0.51837 \tValidation Loss: 0.51649\n",
            "Epoch: 37 \tTraining Loss: 0.50468 \tValidation Loss: 0.57686\n",
            "Epoch: 38 \tTraining Loss: 0.50206 \tValidation Loss: 0.59386\n",
            "Epoch: 39 \tTraining Loss: 0.49959 \tValidation Loss: 0.58748\n",
            "Epoch: 40 \tTraining Loss: 0.47772 \tValidation Loss: 0.56061\n"
          ],
          "name": "stdout"
        }
      ]
    },
    {
      "cell_type": "code",
      "metadata": {
        "id": "KMZzq8jCH_LJ",
        "colab_type": "code",
        "colab": {
          "base_uri": "https://localhost:8080/",
          "height": 389
        },
        "outputId": "c6af8271-50e9-4898-fd8b-44fb8db429ae"
      },
      "source": [
        "#visualising the training Error\n",
        "plt.figure(figsize = (10, 6))  \n",
        "plt.plot(range(1, epoch_num +1, 1), train_loss_list, color ='blue', linestyle ='dashed', marker ='o', \n",
        "         markerfacecolor ='red', markersize = 10) \n",
        "plt.xlabel('Number of Epochs')  \n",
        "plt.ylabel('Training Error')  \n",
        "plt.show()"
      ],
      "execution_count": 9,
      "outputs": [
        {
          "output_type": "display_data",
          "data": {
            "image/png": "[encoded data removed]",
            "text/plain": [
              "<Figure size 720x432 with 1 Axes>"
            ]
          },
          "metadata": {
            "tags": [],
            "needs_background": "light"
          }
        }
      ]
    },
    {
      "cell_type": "code",
      "metadata": {
        "id": "x8eW3TgHLd7U",
        "colab_type": "code",
        "colab": {
          "base_uri": "https://localhost:8080/",
          "height": 388
        },
        "outputId": "4b36bc8e-66a3-43f2-d61f-eec3f196e303"
      },
      "source": [
        "#visualising the validation error\n",
        "plt.figure(figsize = (10, 6))  \n",
        "plt.plot(range(1,epoch_num+1, 1), valid_loss_list, color ='blue', linestyle ='dashed', marker ='o', \n",
        "         markerfacecolor ='red', markersize = 10) \n",
        "plt.xlabel('Number of Epochs')  \n",
        "plt.ylabel('Validation Error')  \n",
        "plt.show()"
      ],
      "execution_count": 10,
      "outputs": [
        {
          "output_type": "display_data",
          "data": {
            "image/png": "[encoded data removed]",
            "text/plain": [
              "<Figure size 720x432 with 1 Axes>"
            ]
          },
          "metadata": {
            "tags": [],
            "needs_background": "light"
          }
        }
      ]
    },
    {
      "cell_type": "code",
      "metadata": {
        "id": "vTIID5ynXe6M",
        "colab_type": "code",
        "colab": {
          "base_uri": "https://localhost:8080/",
          "height": 34
        },
        "outputId": "995eb9fc-224d-4c72-850d-72f644145705"
      },
      "source": [
        "# Load the model that got the best validation accuracy\n",
        "model_transfer.load_state_dict(torch.load('model_transfer.pt'))"
      ],
      "execution_count": 11,
      "outputs": [
        {
          "output_type": "execute_result",
          "data": {
            "text/plain": [
              "<All keys matched successfully>"
            ]
          },
          "metadata": {
            "tags": []
          },
          "execution_count": 11
        }
      ]
    },
    {
      "cell_type": "code",
      "metadata": {
        "id": "ymdMfJitII4Z",
        "colab_type": "code",
        "colab": {
          "base_uri": "https://localhost:8080/",
          "height": 153
        },
        "outputId": "55e0c7d7-ec89-4c0f-991b-e2fec082c750"
      },
      "source": [
        "def test(loaders, model, criterion, use_cuda):\n",
        "\n",
        "    # monitor test loss and accuracy\n",
        "    test_loss = 0.\n",
        "    correct = 0\n",
        "    total = 0\n",
        "\n",
        "    model_transfer.eval() #set model into evaluation/testing mode. It turns of drop off layer\n",
        "    #Iterating over test data\n",
        "    for batch_idx, (data, target) in enumerate(loaders['test']):\n",
        "        # move to GPU\n",
        "        if use_cuda:\n",
        "            data, target = data.cuda(), target.cuda()\n",
        "        # forward pass: compute predicted outputs by passing inputs to the model\n",
        "        output = model(data)\n",
        "        # calculate the loss\n",
        "        loss = criterion(output, target)\n",
        "        # update average test loss \n",
        "        test_loss = test_loss + ((1 / (batch_idx + 1)) * (loss.data - test_loss))\n",
        "        # convert output probabilities to predicted class\n",
        "        pred = output.data.max(1, keepdim=True)[1]\n",
        "        # compare predictions to \n",
        "        correct += np.sum(np.squeeze(pred.eq(target.data.view_as(pred))).cpu().numpy())\n",
        "        total += data.size(0)\n",
        "            \n",
        "    print('Test Loss: {:.6f}\\n'.format(test_loss))\n",
        "\n",
        "    print('\\nTest Accuracy: %2d%% ' % (\n",
        "        100. * correct / total))\n",
        "    print('\\nTotal {} correct Prediction out of {} '.format(correct,total))\n",
        "    print('\\nTotal {} wrong Prediction out of {} '.format(total-correct,total))\n",
        "\n",
        "\n",
        "# call test function    \n",
        "test(loaders_transfer, model_transfer, criterion_transfer, use_cuda)"
      ],
      "execution_count": 12,
      "outputs": [
        {
          "output_type": "stream",
          "text": [
            "Test Loss: 0.194623\n",
            "\n",
            "\n",
            "Test Accuracy: 93% \n",
            "\n",
            "Total 314 correct Prediction out of 337 \n",
            "\n",
            "Total 23 wrong Prediction out of 337 \n"
          ],
          "name": "stdout"
        }
      ]
    },
    {
      "cell_type": "code",
      "metadata": {
        "id": "CUcLtvg3UaNr",
        "colab_type": "code",
        "colab": {}
      },
      "source": [
        ""
      ],
      "execution_count": null,
      "outputs": []
    }
  ]
}